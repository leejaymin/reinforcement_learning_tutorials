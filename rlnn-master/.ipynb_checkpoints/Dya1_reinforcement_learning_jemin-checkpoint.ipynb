{
 "cells": [
  {
   "cell_type": "code",
   "execution_count": 57,
   "metadata": {},
   "outputs": [],
   "source": [
    "import numpy as np\n",
    "from numpy.random import randn\n",
    "\n",
    "t = np.array([[0.8, 0.2\n",
    "              ],[1,0]])"
   ]
  },
  {
   "cell_type": "code",
   "execution_count": 5,
   "metadata": {},
   "outputs": [
    {
     "data": {
      "text/plain": [
       "array([[0.8, 0.2],\n",
       "       [1. , 0. ]])"
      ]
     },
     "execution_count": 5,
     "metadata": {},
     "output_type": "execute_result"
    }
   ],
   "source": [
    "t"
   ]
  },
  {
   "cell_type": "code",
   "execution_count": 6,
   "metadata": {},
   "outputs": [
    {
     "data": {
      "text/plain": [
       "array([[0.84, 0.16],\n",
       "       [0.8 , 0.2 ]])"
      ]
     },
     "execution_count": 6,
     "metadata": {},
     "output_type": "execute_result"
    }
   ],
   "source": [
    "np.dot(t,t)"
   ]
  },
  {
   "cell_type": "code",
   "execution_count": 11,
   "metadata": {},
   "outputs": [
    {
     "data": {
      "text/plain": [
       "array([[0.83333333, 0.16666667],\n",
       "       [0.83333333, 0.16666667]])"
      ]
     },
     "execution_count": 11,
     "metadata": {},
     "output_type": "execute_result"
    }
   ],
   "source": [
    "tsum = np.array([[0.8, 0.2\n",
    "              ],[1,0]])\n",
    "t = np.array([[0.8, 0.2\n",
    "              ],[1,0]])\n",
    "for _ in range(100):\n",
    "    tsum = np.dot(tsum,t)\n",
    "tsum"
   ]
  },
  {
   "cell_type": "code",
   "execution_count": 14,
   "metadata": {
    "scrolled": false
   },
   "outputs": [
    {
     "name": "stdout",
     "output_type": "stream",
     "text": [
      "[[0.8 0.2]\n",
      " [1.  0. ]]\n",
      "[[0.84 0.16]\n",
      " [0.8  0.2 ]]\n",
      "[[0.832 0.168]\n",
      " [0.84  0.16 ]]\n",
      "[[0.8336 0.1664]\n",
      " [0.832  0.168 ]]\n",
      "[[0.83328 0.16672]\n",
      " [0.8336  0.1664 ]]\n",
      "[[0.833344 0.166656]\n",
      " [0.83328  0.16672 ]]\n",
      "[[0.8333312 0.1666688]\n",
      " [0.833344  0.166656 ]]\n",
      "[[0.83333376 0.16666624]\n",
      " [0.8333312  0.1666688 ]]\n",
      "[[0.83333325 0.16666675]\n",
      " [0.83333376 0.16666624]]\n",
      "[[0.83333335 0.16666665]\n",
      " [0.83333325 0.16666675]]\n",
      "[[0.83333333 0.16666667]\n",
      " [0.83333335 0.16666665]]\n",
      "[[0.83333333 0.16666667]\n",
      " [0.83333333 0.16666667]]\n",
      "[[0.83333333 0.16666667]\n",
      " [0.83333333 0.16666667]]\n",
      "[[0.83333333 0.16666667]\n",
      " [0.83333333 0.16666667]]\n",
      "[[0.83333333 0.16666667]\n",
      " [0.83333333 0.16666667]]\n",
      "[[0.83333333 0.16666667]\n",
      " [0.83333333 0.16666667]]\n",
      "[[0.83333333 0.16666667]\n",
      " [0.83333333 0.16666667]]\n",
      "[[0.83333333 0.16666667]\n",
      " [0.83333333 0.16666667]]\n",
      "[[0.83333333 0.16666667]\n",
      " [0.83333333 0.16666667]]\n",
      "[[0.83333333 0.16666667]\n",
      " [0.83333333 0.16666667]]\n",
      "[[0.83333333 0.16666667]\n",
      " [0.83333333 0.16666667]]\n",
      "[[0.83333333 0.16666667]\n",
      " [0.83333333 0.16666667]]\n",
      "[[0.83333333 0.16666667]\n",
      " [0.83333333 0.16666667]]\n",
      "[[0.83333333 0.16666667]\n",
      " [0.83333333 0.16666667]]\n",
      "[[0.83333333 0.16666667]\n",
      " [0.83333333 0.16666667]]\n",
      "[[0.83333333 0.16666667]\n",
      " [0.83333333 0.16666667]]\n",
      "[[0.83333333 0.16666667]\n",
      " [0.83333333 0.16666667]]\n",
      "[[0.83333333 0.16666667]\n",
      " [0.83333333 0.16666667]]\n",
      "[[0.83333333 0.16666667]\n",
      " [0.83333333 0.16666667]]\n",
      "[[0.83333333 0.16666667]\n",
      " [0.83333333 0.16666667]]\n",
      "[[0.83333333 0.16666667]\n",
      " [0.83333333 0.16666667]]\n",
      "[[0.83333333 0.16666667]\n",
      " [0.83333333 0.16666667]]\n",
      "[[0.83333333 0.16666667]\n",
      " [0.83333333 0.16666667]]\n",
      "[[0.83333333 0.16666667]\n",
      " [0.83333333 0.16666667]]\n",
      "[[0.83333333 0.16666667]\n",
      " [0.83333333 0.16666667]]\n",
      "[[0.83333333 0.16666667]\n",
      " [0.83333333 0.16666667]]\n",
      "[[0.83333333 0.16666667]\n",
      " [0.83333333 0.16666667]]\n",
      "[[0.83333333 0.16666667]\n",
      " [0.83333333 0.16666667]]\n",
      "[[0.83333333 0.16666667]\n",
      " [0.83333333 0.16666667]]\n",
      "[[0.83333333 0.16666667]\n",
      " [0.83333333 0.16666667]]\n",
      "[[0.83333333 0.16666667]\n",
      " [0.83333333 0.16666667]]\n",
      "[[0.83333333 0.16666667]\n",
      " [0.83333333 0.16666667]]\n",
      "[[0.83333333 0.16666667]\n",
      " [0.83333333 0.16666667]]\n",
      "[[0.83333333 0.16666667]\n",
      " [0.83333333 0.16666667]]\n",
      "[[0.83333333 0.16666667]\n",
      " [0.83333333 0.16666667]]\n",
      "[[0.83333333 0.16666667]\n",
      " [0.83333333 0.16666667]]\n",
      "[[0.83333333 0.16666667]\n",
      " [0.83333333 0.16666667]]\n",
      "[[0.83333333 0.16666667]\n",
      " [0.83333333 0.16666667]]\n",
      "[[0.83333333 0.16666667]\n",
      " [0.83333333 0.16666667]]\n",
      "[[0.83333333 0.16666667]\n",
      " [0.83333333 0.16666667]]\n",
      "[[0.83333333 0.16666667]\n",
      " [0.83333333 0.16666667]]\n",
      "[[0.83333333 0.16666667]\n",
      " [0.83333333 0.16666667]]\n",
      "[[0.83333333 0.16666667]\n",
      " [0.83333333 0.16666667]]\n",
      "[[0.83333333 0.16666667]\n",
      " [0.83333333 0.16666667]]\n",
      "[[0.83333333 0.16666667]\n",
      " [0.83333333 0.16666667]]\n",
      "[[0.83333333 0.16666667]\n",
      " [0.83333333 0.16666667]]\n",
      "[[0.83333333 0.16666667]\n",
      " [0.83333333 0.16666667]]\n",
      "[[0.83333333 0.16666667]\n",
      " [0.83333333 0.16666667]]\n",
      "[[0.83333333 0.16666667]\n",
      " [0.83333333 0.16666667]]\n",
      "[[0.83333333 0.16666667]\n",
      " [0.83333333 0.16666667]]\n",
      "[[0.83333333 0.16666667]\n",
      " [0.83333333 0.16666667]]\n",
      "[[0.83333333 0.16666667]\n",
      " [0.83333333 0.16666667]]\n",
      "[[0.83333333 0.16666667]\n",
      " [0.83333333 0.16666667]]\n",
      "[[0.83333333 0.16666667]\n",
      " [0.83333333 0.16666667]]\n",
      "[[0.83333333 0.16666667]\n",
      " [0.83333333 0.16666667]]\n",
      "[[0.83333333 0.16666667]\n",
      " [0.83333333 0.16666667]]\n",
      "[[0.83333333 0.16666667]\n",
      " [0.83333333 0.16666667]]\n",
      "[[0.83333333 0.16666667]\n",
      " [0.83333333 0.16666667]]\n",
      "[[0.83333333 0.16666667]\n",
      " [0.83333333 0.16666667]]\n",
      "[[0.83333333 0.16666667]\n",
      " [0.83333333 0.16666667]]\n",
      "[[0.83333333 0.16666667]\n",
      " [0.83333333 0.16666667]]\n",
      "[[0.83333333 0.16666667]\n",
      " [0.83333333 0.16666667]]\n",
      "[[0.83333333 0.16666667]\n",
      " [0.83333333 0.16666667]]\n",
      "[[0.83333333 0.16666667]\n",
      " [0.83333333 0.16666667]]\n",
      "[[0.83333333 0.16666667]\n",
      " [0.83333333 0.16666667]]\n",
      "[[0.83333333 0.16666667]\n",
      " [0.83333333 0.16666667]]\n",
      "[[0.83333333 0.16666667]\n",
      " [0.83333333 0.16666667]]\n",
      "[[0.83333333 0.16666667]\n",
      " [0.83333333 0.16666667]]\n",
      "[[0.83333333 0.16666667]\n",
      " [0.83333333 0.16666667]]\n",
      "[[0.83333333 0.16666667]\n",
      " [0.83333333 0.16666667]]\n",
      "[[0.83333333 0.16666667]\n",
      " [0.83333333 0.16666667]]\n",
      "[[0.83333333 0.16666667]\n",
      " [0.83333333 0.16666667]]\n",
      "[[0.83333333 0.16666667]\n",
      " [0.83333333 0.16666667]]\n",
      "[[0.83333333 0.16666667]\n",
      " [0.83333333 0.16666667]]\n",
      "[[0.83333333 0.16666667]\n",
      " [0.83333333 0.16666667]]\n",
      "[[0.83333333 0.16666667]\n",
      " [0.83333333 0.16666667]]\n",
      "[[0.83333333 0.16666667]\n",
      " [0.83333333 0.16666667]]\n",
      "[[0.83333333 0.16666667]\n",
      " [0.83333333 0.16666667]]\n",
      "[[0.83333333 0.16666667]\n",
      " [0.83333333 0.16666667]]\n",
      "[[0.83333333 0.16666667]\n",
      " [0.83333333 0.16666667]]\n",
      "[[0.83333333 0.16666667]\n",
      " [0.83333333 0.16666667]]\n",
      "[[0.83333333 0.16666667]\n",
      " [0.83333333 0.16666667]]\n",
      "[[0.83333333 0.16666667]\n",
      " [0.83333333 0.16666667]]\n",
      "[[0.83333333 0.16666667]\n",
      " [0.83333333 0.16666667]]\n",
      "[[0.83333333 0.16666667]\n",
      " [0.83333333 0.16666667]]\n",
      "[[0.83333333 0.16666667]\n",
      " [0.83333333 0.16666667]]\n",
      "[[0.83333333 0.16666667]\n",
      " [0.83333333 0.16666667]]\n",
      "[[0.83333333 0.16666667]\n",
      " [0.83333333 0.16666667]]\n",
      "[[0.83333333 0.16666667]\n",
      " [0.83333333 0.16666667]]\n",
      "[[0.83333333 0.16666667]\n",
      " [0.83333333 0.16666667]]\n"
     ]
    },
    {
     "data": {
      "text/plain": [
       "array([[0.83333333, 0.16666667],\n",
       "       [0.83333333, 0.16666667]])"
      ]
     },
     "execution_count": 14,
     "metadata": {},
     "output_type": "execute_result"
    }
   ],
   "source": [
    "tsum = np.array([[0.8, 0.2\n",
    "              ],[1,0]])\n",
    "t = np.array([[0.8, 0.2\n",
    "              ],[1,0]])\n",
    "for _ in range(100):\n",
    "    print(tsum)\n",
    "    tsum = np.dot(tsum,t)\n",
    "tsum"
   ]
  },
  {
   "cell_type": "code",
   "execution_count": 15,
   "metadata": {
    "scrolled": false
   },
   "outputs": [
    {
     "name": "stdout",
     "output_type": "stream",
     "text": [
      "[[0.8 0.2 0. ]\n",
      " [0.8 0.  0.2]\n",
      " [0.  0.  1. ]]\n",
      "[[0.8  0.16 0.04]\n",
      " [0.64 0.16 0.2 ]\n",
      " [0.   0.   1.  ]]\n",
      "[[0.768 0.16  0.072]\n",
      " [0.64  0.128 0.232]\n",
      " [0.    0.    1.   ]]\n",
      "[[0.7424 0.1536 0.104 ]\n",
      " [0.6144 0.128  0.2576]\n",
      " [0.     0.     1.    ]]\n",
      "[[0.7168  0.14848 0.13472]\n",
      " [0.59392 0.12288 0.2832 ]\n",
      " [0.      0.      1.     ]]\n",
      "[[0.692224 0.14336  0.164416]\n",
      " [0.57344  0.118784 0.307776]\n",
      " [0.       0.       1.      ]]\n",
      "[[0.6684672 0.1384448 0.193088 ]\n",
      " [0.5537792 0.114688  0.3315328]\n",
      " [0.        0.        1.       ]]\n",
      "[[0.6455296  0.13369344 0.22077696]\n",
      " [0.53477376 0.11075584 0.3544704 ]\n",
      " [0.         0.         1.        ]]\n",
      "[[0.62337843 0.12910592 0.24751565]\n",
      " [0.51642368 0.10695475 0.37662157]\n",
      " [0.         0.         1.        ]]\n",
      "[[0.60198748 0.12467569 0.27333683]\n",
      " [0.49870275 0.10328474 0.39801252]\n",
      " [0.         0.         1.        ]]\n",
      "[[0.58133053 0.1203975  0.29827197]\n",
      " [0.48158999 0.09974055 0.41866947]\n",
      " [0.         0.         1.        ]]\n",
      "[[0.56138242 0.11626611 0.32235147]\n",
      " [0.46506443 0.096318   0.43861758]\n",
      " [0.         0.         1.        ]]\n",
      "[[0.54211883 0.11227648 0.34560469]\n",
      " [0.44910594 0.09301289 0.45788117]\n",
      " [0.         0.         1.        ]]\n",
      "[[0.52351625 0.10842377 0.36805999]\n",
      " [0.43369506 0.08982119 0.47648375]\n",
      " [0.         0.         1.        ]]\n",
      "[[0.50555201 0.10470325 0.38974474]\n",
      " [0.418813   0.08673901 0.49444799]\n",
      " [0.         0.         1.        ]]\n",
      "[[0.48820421 0.1011104  0.41068539]\n",
      " [0.40444161 0.0837626  0.51179579]\n",
      " [0.         0.         1.        ]]\n",
      "[[0.47145169 0.09764084 0.43090747]\n",
      " [0.39056337 0.08088832 0.52854831]\n",
      " [0.         0.         1.        ]]\n",
      "[[0.45527402 0.09429034 0.45043564]\n",
      " [0.37716135 0.07811267 0.54472598]\n",
      " [0.         0.         1.        ]]\n",
      "[[0.43965149 0.0910548  0.46929371]\n",
      " [0.36421922 0.07543227 0.56034851]\n",
      " [0.         0.         1.        ]]\n",
      "[[0.42456504 0.0879303  0.48750467]\n",
      " [0.35172119 0.07284384 0.57543496]\n",
      " [0.         0.         1.        ]]\n",
      "[[0.40999627 0.08491301 0.50509073]\n",
      " [0.33965203 0.07034424 0.59000373]\n",
      " [0.         0.         1.        ]]\n",
      "[[0.39592742 0.08199925 0.52207333]\n",
      " [0.32799701 0.06793041 0.60407258]\n",
      " [0.         0.         1.        ]]\n",
      "[[0.38234134 0.07918548 0.53847318]\n",
      " [0.31674193 0.0655994  0.61765866]\n",
      " [0.         0.         1.        ]]\n",
      "[[0.36922146 0.07646827 0.55431028]\n",
      " [0.30587307 0.06334839 0.63077854]\n",
      " [0.         0.         1.        ]]\n",
      "[[0.35655178 0.07384429 0.56960393]\n",
      " [0.29537717 0.06117461 0.64344822]\n",
      " [0.         0.         1.        ]]\n",
      "[[0.34431686 0.07131036 0.58437279]\n",
      " [0.28524142 0.05907543 0.65568314]\n",
      " [0.         0.         1.        ]]\n",
      "[[0.33250177 0.06886337 0.59863486]\n",
      " [0.27545349 0.05704828 0.66749823]\n",
      " [0.         0.         1.        ]]\n",
      "[[0.32109211 0.06650035 0.61240753]\n",
      " [0.26600142 0.0550907  0.67890789]\n",
      " [0.         0.         1.        ]]\n",
      "[[0.31007397 0.06421842 0.6257076 ]\n",
      " [0.25687369 0.05320028 0.68992603]\n",
      " [0.         0.         1.        ]]\n",
      "[[0.29943392 0.06201479 0.63855129]\n",
      " [0.24805918 0.05137474 0.70056608]\n",
      " [0.         0.         1.        ]]\n",
      "[[0.28915897 0.05988678 0.65095425]\n",
      " [0.23954713 0.04961184 0.71084103]\n",
      " [0.         0.         1.        ]]\n",
      "[[0.2792366  0.05783179 0.6629316 ]\n",
      " [0.23132718 0.04790943 0.7207634 ]\n",
      " [0.         0.         1.        ]]\n",
      "[[0.26965472 0.05584732 0.67449796]\n",
      " [0.22338928 0.04626544 0.73034528]\n",
      " [0.         0.         1.        ]]\n",
      "[[0.26040163 0.05393094 0.68566743]\n",
      " [0.21572377 0.04467786 0.73959837]\n",
      " [0.         0.         1.        ]]\n",
      "[[0.25146606 0.05208033 0.69645362]\n",
      " [0.2083213  0.04314475 0.74853394]\n",
      " [0.         0.         1.        ]]\n",
      "[[0.24283711 0.05029321 0.70686968]\n",
      " [0.20117285 0.04166426 0.75716289]\n",
      " [0.         0.         1.        ]]\n",
      "[[0.23450426 0.04856742 0.71692832]\n",
      " [0.19426969 0.04023457 0.76549574]\n",
      " [0.         0.         1.        ]]\n",
      "[[0.22645734 0.04690085 0.72664181]\n",
      " [0.1876034  0.03885394 0.77354266]\n",
      " [0.         0.         1.        ]]\n",
      "[[0.21868655 0.04529147 0.73602198]\n",
      " [0.18116587 0.03752068 0.78131345]\n",
      " [0.         0.         1.        ]]\n",
      "[[0.21118242 0.04373731 0.74508027]\n",
      " [0.17494924 0.03623317 0.78881758]\n",
      " [0.         0.         1.        ]]\n",
      "[[0.20393578 0.04223648 0.75382773]\n",
      " [0.16894593 0.03498985 0.79606422]\n",
      " [0.         0.         1.        ]]\n",
      "[[0.19693781 0.04078716 0.76227503]\n",
      " [0.16314863 0.03378919 0.80306219]\n",
      " [0.         0.         1.        ]]\n",
      "[[0.19017998 0.03938756 0.77043246]\n",
      " [0.15755025 0.03262973 0.80982002]\n",
      " [0.         0.         1.        ]]\n",
      "[[0.18365403 0.038036   0.77830997]\n",
      " [0.15214398 0.03151005 0.81634597]\n",
      " [0.         0.         1.        ]]\n",
      "[[0.17735202 0.03673081 0.78591717]\n",
      " [0.14692322 0.0304288  0.82264798]\n",
      " [0.         0.         1.        ]]\n",
      "[[0.17126626 0.0354704  0.79326333]\n",
      " [0.14188162 0.02938464 0.82873374]\n",
      " [0.         0.         1.        ]]\n",
      "[[0.16538933 0.03425325 0.80035741]\n",
      " [0.13701301 0.02837632 0.83461067]\n",
      " [0.         0.         1.        ]]\n",
      "[[0.15971407 0.03307787 0.80720807]\n",
      " [0.13231147 0.0274026  0.84028593]\n",
      " [0.         0.         1.        ]]\n",
      "[[0.15423355 0.03194281 0.81382364]\n",
      " [0.12777125 0.02646229 0.84576645]\n",
      " [0.         0.         1.        ]]\n",
      "[[0.14894109 0.03084671 0.8202122 ]\n",
      " [0.12338684 0.02555425 0.85105891]\n",
      " [0.         0.         1.        ]]\n"
     ]
    },
    {
     "data": {
      "text/plain": [
       "array([[0.14383024, 0.02978822, 0.82638154],\n",
       "       [0.11915287, 0.02467737, 0.85616976],\n",
       "       [0.        , 0.        , 1.        ]])"
      ]
     },
     "execution_count": 15,
     "metadata": {},
     "output_type": "execute_result"
    }
   ],
   "source": [
    "tsum = np.array([[0.8, 0.2,0\n",
    "              ],[0.8,0,0.2], [0,0,1]])\n",
    "t = np.array([[0.8, 0.2,0\n",
    "              ],[0.8,0,0.2], [0,0,1]])\n",
    "for _ in range(50):\n",
    "    print(tsum)\n",
    "    tsum = np.dot(tsum,t)\n",
    "tsum"
   ]
  },
  {
   "cell_type": "code",
   "execution_count": 16,
   "metadata": {},
   "outputs": [],
   "source": [
    "arr = np.zeros((4,4))"
   ]
  },
  {
   "cell_type": "code",
   "execution_count": 17,
   "metadata": {},
   "outputs": [
    {
     "data": {
      "text/plain": [
       "array([[0., 0., 0., 0.],\n",
       "       [0., 0., 0., 0.],\n",
       "       [0., 0., 0., 0.],\n",
       "       [0., 0., 0., 0.]])"
      ]
     },
     "execution_count": 17,
     "metadata": {},
     "output_type": "execute_result"
    }
   ],
   "source": [
    "arr"
   ]
  },
  {
   "cell_type": "code",
   "execution_count": 18,
   "metadata": {},
   "outputs": [],
   "source": [
    "arr_3d = arr[:, np.newaxis, :]"
   ]
  },
  {
   "cell_type": "code",
   "execution_count": 20,
   "metadata": {},
   "outputs": [
    {
     "data": {
      "text/plain": [
       "(4, 1, 4)"
      ]
     },
     "execution_count": 20,
     "metadata": {},
     "output_type": "execute_result"
    }
   ],
   "source": [
    "arr_3d.shape"
   ]
  },
  {
   "cell_type": "code",
   "execution_count": 21,
   "metadata": {},
   "outputs": [],
   "source": [
    "nd1 = np.ones((3,3))"
   ]
  },
  {
   "cell_type": "code",
   "execution_count": 22,
   "metadata": {},
   "outputs": [
    {
     "data": {
      "text/plain": [
       "array([[1., 1., 1.],\n",
       "       [1., 1., 1.],\n",
       "       [1., 1., 1.]])"
      ]
     },
     "execution_count": 22,
     "metadata": {},
     "output_type": "execute_result"
    }
   ],
   "source": [
    "nd1"
   ]
  },
  {
   "cell_type": "code",
   "execution_count": 23,
   "metadata": {},
   "outputs": [
    {
     "data": {
      "text/plain": [
       "array([[0., 0., 0.],\n",
       "       [0., 0., 0.],\n",
       "       [0., 0., 0.]])"
      ]
     },
     "execution_count": 23,
     "metadata": {},
     "output_type": "execute_result"
    }
   ],
   "source": [
    "np.zeros_like(nd1)"
   ]
  },
  {
   "cell_type": "code",
   "execution_count": 44,
   "metadata": {},
   "outputs": [
    {
     "name": "stdout",
     "output_type": "stream",
     "text": [
      "[0 1 2 3 4 5 6]\n",
      "[0 1 2 3 4 5 6]\n"
     ]
    }
   ],
   "source": [
    "nd1 = np.arange((7))\n",
    "nd2 = np.array(nd1)\n",
    "print(nd1)\n",
    "print(nd2)"
   ]
  },
  {
   "cell_type": "code",
   "execution_count": 45,
   "metadata": {},
   "outputs": [],
   "source": [
    "nd2[3:5] = 10"
   ]
  },
  {
   "cell_type": "code",
   "execution_count": 46,
   "metadata": {},
   "outputs": [
    {
     "name": "stdout",
     "output_type": "stream",
     "text": [
      "[0 1 2 3 4 5 6]\n",
      "[ 0  1  2 10 10  5  6]\n"
     ]
    }
   ],
   "source": [
    "print(nd1)\n",
    "print(nd2)"
   ]
  },
  {
   "cell_type": "markdown",
   "metadata": {},
   "source": [
    "## Boolean index"
   ]
  },
  {
   "cell_type": "code",
   "execution_count": 51,
   "metadata": {},
   "outputs": [
    {
     "data": {
      "text/plain": [
       "array(['Bob', 'Joe', 'Will', 'Bob', 'Will', 'Joe', 'Joe'], dtype='<U4')"
      ]
     },
     "execution_count": 51,
     "metadata": {},
     "output_type": "execute_result"
    }
   ],
   "source": [
    "names = np.array(['Bob', 'Joe', 'Will', 'Bob', 'Will', 'Joe', 'Joe'])\n",
    "data = randn(7,4)\n",
    "names"
   ]
  },
  {
   "cell_type": "code",
   "execution_count": 52,
   "metadata": {},
   "outputs": [
    {
     "data": {
      "text/plain": [
       "array([[ 0.47345216, -1.18590188, -0.99900164,  1.03440188],\n",
       "       [ 0.00747334,  0.83330703,  0.08319213,  2.15507676],\n",
       "       [-0.52298032,  0.032454  , -0.70674888,  0.68342839],\n",
       "       [ 1.42290749,  0.48705837,  0.43085334, -0.66270983],\n",
       "       [-0.25126806, -0.33498839, -1.24768402, -0.99120981],\n",
       "       [ 0.3031559 ,  0.03494543,  1.74836217,  1.72821505],\n",
       "       [ 0.51358986, -0.11888052, -1.83363617, -0.37424338]])"
      ]
     },
     "execution_count": 52,
     "metadata": {},
     "output_type": "execute_result"
    }
   ],
   "source": [
    "data"
   ]
  },
  {
   "cell_type": "code",
   "execution_count": 53,
   "metadata": {},
   "outputs": [
    {
     "data": {
      "text/plain": [
       "array([ True, False, False,  True, False, False, False])"
      ]
     },
     "execution_count": 53,
     "metadata": {},
     "output_type": "execute_result"
    }
   ],
   "source": [
    "names == 'Bob'"
   ]
  },
  {
   "cell_type": "code",
   "execution_count": 54,
   "metadata": {},
   "outputs": [
    {
     "data": {
      "text/plain": [
       "array([[ 0.47345216, -1.18590188, -0.99900164,  1.03440188],\n",
       "       [ 1.42290749,  0.48705837,  0.43085334, -0.66270983]])"
      ]
     },
     "execution_count": 54,
     "metadata": {},
     "output_type": "execute_result"
    }
   ],
   "source": [
    "data[names == 'Bob']"
   ]
  },
  {
   "cell_type": "code",
   "execution_count": 55,
   "metadata": {},
   "outputs": [
    {
     "data": {
      "text/plain": [
       "array([[-0.99900164,  1.03440188],\n",
       "       [ 0.43085334, -0.66270983]])"
      ]
     },
     "execution_count": 55,
     "metadata": {},
     "output_type": "execute_result"
    }
   ],
   "source": [
    "data[names == 'Bob', 2:]"
   ]
  },
  {
   "cell_type": "code",
   "execution_count": 56,
   "metadata": {
    "scrolled": true
   },
   "outputs": [
    {
     "data": {
      "text/plain": [
       "array([ 1.03440188, -0.66270983])"
      ]
     },
     "execution_count": 56,
     "metadata": {},
     "output_type": "execute_result"
    }
   ],
   "source": [
    "data[names == 'Bob', 3]"
   ]
  },
  {
   "cell_type": "code",
   "execution_count": 58,
   "metadata": {},
   "outputs": [
    {
     "data": {
      "text/plain": [
       "array([[0., 0., 0., 0.],\n",
       "       [1., 1., 1., 1.],\n",
       "       [2., 2., 2., 2.],\n",
       "       [3., 3., 3., 3.],\n",
       "       [4., 4., 4., 4.],\n",
       "       [5., 5., 5., 5.],\n",
       "       [6., 6., 6., 6.],\n",
       "       [7., 7., 7., 7.]])"
      ]
     },
     "execution_count": 58,
     "metadata": {},
     "output_type": "execute_result"
    }
   ],
   "source": [
    "arr = np.empty((8,4))\n",
    "for i in range(8):\n",
    "    arr[i] = i\n",
    "arr"
   ]
  },
  {
   "cell_type": "code",
   "execution_count": 59,
   "metadata": {
    "scrolled": true
   },
   "outputs": [
    {
     "data": {
      "text/plain": [
       "array([[5., 5., 5., 5.],\n",
       "       [3., 3., 3., 3.],\n",
       "       [0., 0., 0., 0.],\n",
       "       [1., 1., 1., 1.],\n",
       "       [6., 6., 6., 6.]])"
      ]
     },
     "execution_count": 59,
     "metadata": {},
     "output_type": "execute_result"
    }
   ],
   "source": [
    "arr[[5,3,0,1,6]]"
   ]
  },
  {
   "cell_type": "code",
   "execution_count": 71,
   "metadata": {
    "scrolled": true
   },
   "outputs": [
    {
     "data": {
      "text/plain": [
       "array([[ 0.76771038, -0.12805455, -0.72562751,  0.41088356],\n",
       "       [-0.80728038, -0.41005931,  1.89992318, -0.66355309],\n",
       "       [-0.2035992 ,  0.14630014,  0.19417375, -1.17822379],\n",
       "       [ 1.08069601, -0.22415984, -0.19526836,  0.36728351],\n",
       "       [-0.92874476,  0.49473961, -0.73192357, -0.66006006],\n",
       "       [-0.12795066,  1.15273   ,  0.84612355, -0.15003416],\n",
       "       [-0.12342411, -0.09411243, -0.9256262 , -0.72753652]])"
      ]
     },
     "execution_count": 71,
     "metadata": {},
     "output_type": "execute_result"
    }
   ],
   "source": [
    "data = randn(7,4)\n",
    "data"
   ]
  },
  {
   "cell_type": "code",
   "execution_count": 67,
   "metadata": {},
   "outputs": [],
   "source": [
    "data[data >= 1 ] = 1"
   ]
  },
  {
   "cell_type": "code",
   "execution_count": 68,
   "metadata": {},
   "outputs": [],
   "source": [
    "data[data <= -1 ] = -1"
   ]
  },
  {
   "cell_type": "code",
   "execution_count": 69,
   "metadata": {},
   "outputs": [
    {
     "data": {
      "text/plain": [
       "array([[ 0.07941875,  0.95194552,  1.        , -1.        ],\n",
       "       [ 1.        , -0.43691777,  1.        , -1.        ],\n",
       "       [ 0.4189283 ,  0.95115578,  0.3023997 ,  0.96825179],\n",
       "       [-1.        , -0.37317813,  0.67391697,  0.77991858],\n",
       "       [ 0.1125657 , -0.73179659,  0.06417147,  0.07205   ],\n",
       "       [-0.38929563, -0.65041931, -0.57359731,  0.34254177],\n",
       "       [-0.76525882, -0.60570602,  0.8917691 , -0.85267893]])"
      ]
     },
     "execution_count": 69,
     "metadata": {},
     "output_type": "execute_result"
    }
   ],
   "source": [
    "data"
   ]
  },
  {
   "cell_type": "code",
   "execution_count": 74,
   "metadata": {
    "scrolled": true
   },
   "outputs": [
    {
     "data": {
      "text/plain": [
       "(array([1, 3, 5], dtype=int64), array([2, 0, 1], dtype=int64))"
      ]
     },
     "execution_count": 74,
     "metadata": {},
     "output_type": "execute_result"
    }
   ],
   "source": [
    "np.where(data > 1)"
   ]
  },
  {
   "cell_type": "code",
   "execution_count": 75,
   "metadata": {},
   "outputs": [
    {
     "data": {
      "text/plain": [
       "array([1.89992318, 1.08069601, 1.15273   ])"
      ]
     },
     "execution_count": 75,
     "metadata": {},
     "output_type": "execute_result"
    }
   ],
   "source": [
    "data[np.where(data > 1)]"
   ]
  },
  {
   "cell_type": "markdown",
   "metadata": {},
   "source": [
    "# 실습"
   ]
  },
  {
   "cell_type": "code",
   "execution_count": 77,
   "metadata": {},
   "outputs": [],
   "source": [
    "dset = {'영미':{'국어':80, '수학':90, '음악':100},\n",
    "       '두현':{'국어':100, '수학':98, '음악':90},\n",
    "       '준이':{'국어':95, '수학':93, '음악':92}\n",
    "       }"
   ]
  },
  {
   "cell_type": "code",
   "execution_count": 78,
   "metadata": {},
   "outputs": [
    {
     "data": {
      "text/plain": [
       "{'영미': {'국어': 80, '수학': 90, '음악': 100},\n",
       " '두현': {'국어': 100, '수학': 98, '음악': 90},\n",
       " '준이': {'국어': 95, '수학': 93, '음악': 92}}"
      ]
     },
     "execution_count": 78,
     "metadata": {},
     "output_type": "execute_result"
    }
   ],
   "source": [
    "dset"
   ]
  },
  {
   "cell_type": "code",
   "execution_count": 79,
   "metadata": {},
   "outputs": [],
   "source": [
    "sub_weight = {'국어':1.0,'수학':1.2,'음악':2.0}"
   ]
  },
  {
   "cell_type": "code",
   "execution_count": 80,
   "metadata": {},
   "outputs": [
    {
     "data": {
      "text/plain": [
       "{'국어': 1.0, '수학': 1.2, '음악': 2.0}"
      ]
     },
     "execution_count": 80,
     "metadata": {},
     "output_type": "execute_result"
    }
   ],
   "source": [
    "sub_weight"
   ]
  },
  {
   "cell_type": "code",
   "execution_count": null,
   "metadata": {},
   "outputs": [],
   "source": [
    ">>> x,y = (sum(x) for x in zip(*((a*b, a) for _,a,b in d.values())))\n",
    ">>> x/y   # float(y) in Py2\n",
    "7.733333333333333"
   ]
  },
  {
   "cell_type": "code",
   "execution_count": 113,
   "metadata": {},
   "outputs": [],
   "source": [
    "weighted_sum = {'영미':0,'두현':0,'준이':0}\n",
    "for a,b,c,w in zip(dset['영미'].values(), dset['두현'].values(), dset['준이'].values(), sub_weight.values()):\n",
    "    weighted_sum['영미'] += a*w\n",
    "    weighted_sum['두현'] += b*w\n",
    "    weighted_sum['준이'] += c*w"
   ]
  },
  {
   "cell_type": "code",
   "execution_count": 114,
   "metadata": {},
   "outputs": [
    {
     "data": {
      "text/plain": [
       "{'영미': 388.0, '두현': 397.6, '준이': 390.6}"
      ]
     },
     "execution_count": 114,
     "metadata": {},
     "output_type": "execute_result"
    }
   ],
   "source": [
    "weighted_sum"
   ]
  },
  {
   "cell_type": "code",
   "execution_count": 119,
   "metadata": {},
   "outputs": [
    {
     "name": "stdout",
     "output_type": "stream",
     "text": [
      "['영미' '두현' '준이']\n",
      "[[ 80.  90. 100.]\n",
      " [100.  98.  90.]\n",
      " [ 95.  93.  92.]]\n",
      "[[388. ]\n",
      " [397.6]\n",
      " [390.6]]\n"
     ]
    },
    {
     "data": {
      "text/plain": [
       "array([['영미'],\n",
       "       ['준이'],\n",
       "       ['두현']], dtype='<U2')"
      ]
     },
     "execution_count": 119,
     "metadata": {},
     "output_type": "execute_result"
    }
   ],
   "source": [
    "score = np.zeros((3,3))\n",
    "names = []\n",
    "for i, key in enumerate(dset.keys()):\n",
    "    names.append(key)\n",
    "    for j, sub in enumerate(dset[key].keys()):\n",
    "        score[i,j] = dset[key][sub]\n",
    "names = np.array(names)\n",
    "print(names)\n",
    "print(score)\n",
    "\n",
    "weights = np.array([1.0, 1.2, 2.0]).reshape(3,1)\n",
    "total = np.dot(score, weights)\n",
    "print(total)\n",
    "\n",
    "names[np.argsort(total,0)]"
   ]
  },
  {
   "cell_type": "code",
   "execution_count": 121,
   "metadata": {},
   "outputs": [],
   "source": [
    "import pandas as pd"
   ]
  },
  {
   "cell_type": "code",
   "execution_count": 123,
   "metadata": {
    "scrolled": true
   },
   "outputs": [
    {
     "name": "stdout",
     "output_type": "stream",
     "text": [
      "     영미   두현  준이\n",
      "국어   80  100  95\n",
      "수학   90   98  93\n",
      "음악  100   90  92\n",
      "[[ 80 100  95]\n",
      " [ 90  98  93]\n",
      " [100  90  92]]\n"
     ]
    }
   ],
   "source": [
    "df = pd.DataFrame(dset)\n",
    "print(df)\n",
    "\n",
    "arr = np.array(df)\n",
    "print(arr)"
   ]
  },
  {
   "cell_type": "code",
   "execution_count": 124,
   "metadata": {},
   "outputs": [],
   "source": [
    "# 실습거리 계산"
   ]
  },
  {
   "cell_type": "code",
   "execution_count": 150,
   "metadata": {},
   "outputs": [],
   "source": [
    "def disMeasure(a,b):\n",
    "    temp = a-b\n",
    "    sum_sq = np.dot(temp.T, temp)\n",
    "    return np.sqrt(sum_sq)"
   ]
  },
  {
   "cell_type": "code",
   "execution_count": 151,
   "metadata": {},
   "outputs": [],
   "source": [
    "a = np.array([1,1])\n",
    "b = np.array([3,2])\n",
    "c = np.array([5,7])\n",
    "x = np.array([2,3])"
   ]
  },
  {
   "cell_type": "code",
   "execution_count": 153,
   "metadata": {},
   "outputs": [
    {
     "name": "stdout",
     "output_type": "stream",
     "text": [
      "2.23606797749979\n",
      "1.4142135623730951\n",
      "5.0\n"
     ]
    }
   ],
   "source": [
    "print(disMeasure(a,x))\n",
    "print(disMeasure(b,x))\n",
    "print(disMeasure(c,x))"
   ]
  },
  {
   "cell_type": "code",
   "execution_count": 154,
   "metadata": {},
   "outputs": [],
   "source": [
    "# 강사님 코드"
   ]
  },
  {
   "cell_type": "code",
   "execution_count": 156,
   "metadata": {
    "scrolled": true
   },
   "outputs": [
    {
     "data": {
      "text/plain": [
       "array([2.23606798, 1.41421356, 5.        ])"
      ]
     },
     "execution_count": 156,
     "metadata": {},
     "output_type": "execute_result"
    }
   ],
   "source": [
    "points = np.array([[1,1],[3,2],[5,7]])\n",
    "x = np.array([[2,3]])\n",
    "np.sqrt(np.sum((points-x)*(points-x),1))"
   ]
  },
  {
   "cell_type": "code",
   "execution_count": 158,
   "metadata": {},
   "outputs": [
    {
     "data": {
      "text/plain": [
       "array([[ 1,  4],\n",
       "       [ 1,  1],\n",
       "       [ 9, 16]])"
      ]
     },
     "execution_count": 158,
     "metadata": {},
     "output_type": "execute_result"
    }
   ],
   "source": [
    "(points - x)*(points - x)"
   ]
  },
  {
   "cell_type": "code",
   "execution_count": 178,
   "metadata": {},
   "outputs": [
    {
     "name": "stdout",
     "output_type": "stream",
     "text": [
      "(253, 321, 4)\n"
     ]
    },
    {
     "data": {
      "image/png": "[encoded data removed]",
      "text/plain": [
       "<PIL.Image.Image image mode=RGBA size=321x253 at 0x282C1736700>"
      ]
     },
     "execution_count": 178,
     "metadata": {},
     "output_type": "execute_result"
    }
   ],
   "source": [
    "from PIL import Image\n",
    "image = Image.open('./etri-c.png')\n",
    "img = np.array(image)\n",
    "print(img.shape)\n",
    "Image.fromarray(img)"
   ]
  },
  {
   "cell_type": "code",
   "execution_count": 179,
   "metadata": {},
   "outputs": [
    {
     "data": {
      "image/png": "[encoded data removed]",
      "text/plain": [
       "<PIL.Image.Image image mode=RGBA size=321x253 at 0x282C173F8B0>"
      ]
     },
     "execution_count": 179,
     "metadata": {},
     "output_type": "execute_result"
    }
   ],
   "source": [
    "# 과제 해결법\n",
    "img[:,:,1:-1] = 0\n",
    "img[:,:,0][img[:,:,0] < 200] = 200\n",
    "Image.fromarray(img)"
   ]
  }
 ],
 "metadata": {
  "kernelspec": {
   "display_name": "Python 3",
   "language": "python",
   "name": "python3"
  },
  "language_info": {
   "codemirror_mode": {
    "name": "ipython",
    "version": 3
   },
   "file_extension": ".py",
   "mimetype": "text/x-python",
   "name": "python",
   "nbconvert_exporter": "python",
   "pygments_lexer": "ipython3",
   "version": "3.8.3"
  }
 },
 "nbformat": 4,
 "nbformat_minor": 4
}
